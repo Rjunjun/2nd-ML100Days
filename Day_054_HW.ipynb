{
 "cells": [
  {
   "cell_type": "markdown",
   "metadata": {},
   "source": [
    "# 作業\n",
    "* 試著想想看, 非監督學習是否有可能使用評價函數 (Metric) 來鑑別好壞呢?  \n",
    "(Hint : 可以分為 \"有目標值\" 與 \"無目標值\" 兩個方向思考)"
   ]
  },
  {
   "cell_type": "raw",
   "metadata": {
    "collapsed": true
   },
   "source": [
    "有類標(標籤)的情況\n",
    "Purity方法\n",
    "RI方法(Rand index蘭德指數)\n",
    "F值方法\n",
    "無類標(標籤)的情況\n",
    "Compactness(緊密性)(CP)\n",
    "Separation(間隔性)(SP)\n",
    "Davies-Bouldin Index(戴維森堡丁指數)(分類適確性指標)(DB)(DBI)\n",
    "Dunn Validity Index (鄧恩指數)(DVI)"
   ]
  }
 ],
 "metadata": {
  "kernelspec": {
   "display_name": "Python 3",
   "language": "python",
   "name": "python3"
  },
  "language_info": {
   "codemirror_mode": {
    "name": "ipython",
    "version": 3
   },
   "file_extension": ".py",
   "mimetype": "text/x-python",
   "name": "python",
   "nbconvert_exporter": "python",
   "pygments_lexer": "ipython3",
   "version": "3.6.8"
  }
 },
 "nbformat": 4,
 "nbformat_minor": 1
}
